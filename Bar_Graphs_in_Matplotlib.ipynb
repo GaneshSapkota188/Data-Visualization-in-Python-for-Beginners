{
  "nbformat": 4,
  "nbformat_minor": 0,
  "metadata": {
    "colab": {
      "provenance": [],
      "authorship_tag": "ABX9TyNIx2Qsy1AcmBpgbZKO7gTG",
      "include_colab_link": true
    },
    "kernelspec": {
      "name": "python3",
      "display_name": "Python 3"
    },
    "language_info": {
      "name": "python"
    }
  },
  "cells": [
    {
      "cell_type": "markdown",
      "metadata": {
        "id": "view-in-github",
        "colab_type": "text"
      },
      "source": [
        "<a href=\"https://colab.research.google.com/github/ganeshsapkota/Data-Visualization-in-Python-for-Beginners/blob/main/Bar_Graphs_in_Matplotlib.ipynb\" target=\"_parent\"><img src=\"https://colab.research.google.com/assets/colab-badge.svg\" alt=\"Open In Colab\"/></a>"
      ]
    },
    {
      "cell_type": "code",
      "execution_count": 30,
      "metadata": {
        "colab": {
          "base_uri": "https://localhost:8080/",
          "height": 295
        },
        "id": "VlgppOuC2bJd",
        "outputId": "666b396e-d48b-4283-adfe-d396574ca4a7"
      },
      "outputs": [
        {
          "output_type": "display_data",
          "data": {
            "text/plain": [
              "<Figure size 432x288 with 1 Axes>"
            ],
            "image/png": "[encoded data removed]"
          },
          "metadata": {
            "needs_background": "light"
          }
        }
      ],
      "source": [
        "import matplotlib.pyplot as plt\n",
        "import numpy as np\n",
        "width = 0.3\n",
        "\n",
        "xtitle = [\"Bird\", \"Animals\", \"vehicles\",\"Books\", \"Laptops\"]\n",
        "y = [15,75,34,56,30]\n",
        "y2 = [13,73,32,50,29]\n",
        "y3 = [14,70,36,55,33]\n",
        "x = np.arange(len(xtitle))\n",
        "\n",
        "plt.bar(x, y, width=width, color=\"purple\")\n",
        "plt.bar(x + width,y2, width = width, color=\"red\")\n",
        "plt.bar(x + (width * 2),y3, width = width, color=\"blue\" )\n",
        "\n",
        "plt.title(\"choose any one of them\")\n",
        "plt.xlabel(\"Names\")\n",
        "plt.ylabel(\"votes\")\n",
        "plt.legend([\"Group A\", \"Group B\", \"Group C\"])\n",
        "plt.xticks(x, xtitle)\n",
        "plt.show()"
      ]
    }
  ]
}